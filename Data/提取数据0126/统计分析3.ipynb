{
 "cells": [
  {
   "cell_type": "markdown",
   "id": "439bc7da-0dcb-474e-88e9-b45401cc6a8e",
   "metadata": {},
   "source": [
    "## 归一化"
   ]
  },
  {
   "cell_type": "markdown",
   "id": "66577b79-6f88-4dd8-87b0-7258e65464eb",
   "metadata": {},
   "source": [
    "### （1）极值归一化"
   ]
  },
  {
   "cell_type": "code",
   "execution_count": 19,
   "id": "dc188adb-a95c-4ca8-b038-0f5ab1ccf3a2",
   "metadata": {},
   "outputs": [
    {
     "name": "stdout",
     "output_type": "stream",
     "text": [
      "归一化后的数据已保存到: data1/人均GDP_Data_Normalized_1.csv\n"
     ]
    },
    {
     "name": "stderr",
     "output_type": "stream",
     "text": [
      "C:\\Users\\Administrator\\AppData\\Local\\Temp\\ipykernel_15732\\2272319026.py:17: DeprecationWarning: DataFrameGroupBy.apply operated on the grouping columns. This behavior is deprecated, and in a future version of pandas the grouping columns will be excluded from the operation. Either pass `include_groups=False` to exclude the groupings or explicitly select the grouping columns after groupby to silence this warning.\n",
      "  normalized_gdp_data = gdp_data.groupby(\"Year\").apply(normalize_gdp)\n"
     ]
    }
   ],
   "source": [
    "import pandas as pd\n",
    "\n",
    "# 读取 GDP 数据\n",
    "gdp_data_path = 'data1/人均GDP_Data.csv'\n",
    "gdp_data = pd.read_csv(gdp_data_path)\n",
    "\n",
    "# 定义归一化函数\n",
    "def normalize_gdp(group):\n",
    "    \"\"\"\n",
    "    对每组（每年）的 GDP 列进行归一化处理。\n",
    "    归一化公式：(x - x_min) / (x_max - x_min)\n",
    "    \"\"\"\n",
    "    group['Normalized_GDP'] = (group['GDP'] - group['GDP'].min()) / (group['GDP'].max() - group['GDP'].min())\n",
    "    return group\n",
    "\n",
    "# 按年份分组并应用归一化函数\n",
    "normalized_gdp_data = gdp_data.groupby(\"Year\").apply(normalize_gdp)\n",
    "\n",
    "# 保存归一化后的数据到新的 CSV 文件\n",
    "output_path = 'data1/人均GDP_Data_Normalized_1.csv'\n",
    "normalized_gdp_data.to_csv(output_path, index=False)\n",
    "\n",
    "# 显示保存路径\n",
    "print(f\"归一化后的数据已保存到: {output_path}\")\n"
   ]
  },
  {
   "cell_type": "markdown",
   "id": "e92666a0-8586-4beb-886b-9af52eb5c9c5",
   "metadata": {},
   "source": [
    "### （2）百分比归一化"
   ]
  },
  {
   "cell_type": "code",
   "execution_count": null,
   "id": "64e8d55a-19df-4116-99b3-80dd8bd3226c",
   "metadata": {},
   "outputs": [],
   "source": [
    "# import pandas as pd\n",
    "\n",
    "# 读取 GDP 数据\n",
    "gdp_data_path = 'data1/人均GDP_Data.csv'\n",
    "gdp_data = pd.read_csv(gdp_data_path)\n",
    "\n",
    "# 定义按全球百分比归一化函数\n",
    "def normalize_gdp_by_percentage(group):\n",
    "    \"\"\"\n",
    "    对每组（每年）的 GDP 数据计算百分比归一化\n",
    "    计算公式：百分比 = (国家GDP / 全球GDP总和) * 100\n",
    "    \"\"\"\n",
    "    total_gdp = group['GDP'].sum()  # 计算全球GDP总和\n",
    "    group['Normalized_GDP_Percentage'] = (group['GDP'] / total_gdp) * 100  # 计算百分比\n",
    "    return group\n",
    "\n",
    "# 按年份分组并应用归一化函数\n",
    "normalized_gdp_data = gdp_data.groupby(\"Year\").apply(normalize_gdp_by_percentage)\n",
    "\n",
    "# 保存归一化后的数据到新的 CSV 文件\n",
    "output_path = 'data1/人均GDP_Data_Normalized_2.csv'\n",
    "normalized_gdp_data.to_csv(output_path, index=False)\n",
    "\n",
    "# 显示保存路径\n",
    "print(f\"按百分比归一化的GDP数据已保存到: {output_path}\")\n"
   ]
  },
  {
   "cell_type": "markdown",
   "id": "2afac4bd-6af9-48c8-8b5c-390cbb422256",
   "metadata": {},
   "source": [
    "### 统计人口的"
   ]
  },
  {
   "cell_type": "code",
   "execution_count": 29,
   "id": "99e92934-942d-49b9-a824-fc5b5dbc6ded",
   "metadata": {},
   "outputs": [
    {
     "name": "stderr",
     "output_type": "stream",
     "text": [
      "C:\\Users\\Administrator\\AppData\\Local\\Temp\\ipykernel_15732\\320685097.py:21: DeprecationWarning: DataFrameGroupBy.apply operated on the grouping columns. This behavior is deprecated, and in a future version of pandas the grouping columns will be excluded from the operation. Either pass `include_groups=False` to exclude the groupings or explicitly select the grouping columns after groupby to silence this warning.\n",
      "  normalized_population_data = population_data.groupby(\"Year\").apply(normalize_population)\n",
      "C:\\Users\\Administrator\\AppData\\Local\\Temp\\ipykernel_15732\\320685097.py:32: DeprecationWarning: DataFrameGroupBy.apply operated on the grouping columns. This behavior is deprecated, and in a future version of pandas the grouping columns will be excluded from the operation. Either pass `include_groups=False` to exclude the groupings or explicitly select the grouping columns after groupby to silence this warning.\n",
      "  normalized_population_data = population_data.groupby(\"Year\").apply(normalize_population_by_percentage)\n"
     ]
    },
    {
     "name": "stdout",
     "output_type": "stream",
     "text": [
      "归一化后的数据已保存到: data1/Population_Data_Normalized_1.csv\n",
      "按百分比归一化的population数据已保存到: data1/Population_Data_Normalized_2.csv\n"
     ]
    }
   ],
   "source": [
    "import pandas as pd\n",
    "\n",
    "# 读取 population 数据\n",
    "population_data_path = 'data1/Population_Data.csv'\n",
    "population_data = pd.read_csv(population_data_path)\n",
    "\n",
    "# 定义归一化函数\n",
    "def normalize_population(group):\n",
    "    \n",
    "    group['Normalized_Population'] = (group['Population'] - group['Population'].min()) / (group['Population'].max() - group['Population'].min())\n",
    "    return group\n",
    "    \n",
    "# 定义按全球百分比归一化函数\n",
    "def normalize_population_by_percentage(group):\n",
    "  \n",
    "    total_population = group['Population'].sum()  # 计算全球population总和\n",
    "    group['Normalized_Population_Percentage'] = (group['Population'] / total_population) * 100  # 计算百分比\n",
    "    return group\n",
    "\n",
    "# 按年份分组并应用归一化函数\n",
    "normalized_population_data = population_data.groupby(\"Year\").apply(normalize_population)\n",
    "\n",
    "# 保存归一化后的数据到新的 CSV 文件\n",
    "output_path = 'data1/Population_Data_Normalized_1.csv'\n",
    "normalized_population_data.to_csv(output_path, index=False)\n",
    "\n",
    "# 显示保存路径\n",
    "print(f\"归一化后的数据已保存到: {output_path}\")\n",
    "\n",
    "#------------------------------------------------------------------------\n",
    "# 按年份分组并应用归一化函数\n",
    "normalized_population_data = population_data.groupby(\"Year\").apply(normalize_population_by_percentage)\n",
    "\n",
    "# 保存归一化后的数据到新的 CSV 文件\n",
    "output_path = 'data1/Population_Data_Normalized_2.csv'\n",
    "normalized_population_data.to_csv(output_path, index=False)\n",
    "\n",
    "# 显示保存路径\n",
    "print(f\"按百分比归一化的population数据已保存到: {output_path}\")\n",
    "\n"
   ]
  },
  {
   "cell_type": "markdown",
   "id": "d88b918b-4269-46e5-a1b0-fa5c6806f863",
   "metadata": {},
   "source": [
    "## 汇总数据"
   ]
  },
  {
   "cell_type": "code",
   "execution_count": 69,
   "id": "5899799b-6072-4754-8031-b4366269c69b",
   "metadata": {},
   "outputs": [
    {
     "name": "stdout",
     "output_type": "stream",
     "text": [
      "最终清理后的数据已保存到: data1/Aggregated_Olympic_Data.csv\n",
      "        Country  Year  Normalized_GDP  Normalized_Population  \\\n",
      "1875  Argentina  1972        0.009055               0.006426   \n",
      "1876  Australia  1972        0.013571               0.003435   \n",
      "1877    Austria  1972        0.005727               0.001966   \n",
      "1879    Belgium  1972        0.009701               0.002531   \n",
      "1880      Benin  1972        0.000101               0.000835   \n",
      "\n",
      "      Normalized_Per_Capita_GDP  participants  sport_count  event_count  \n",
      "1875                   0.096561         123.0         12.0         62.0  \n",
      "1876                   0.283118         266.0         20.0        110.0  \n",
      "1877                   0.184300         143.0         15.0         68.0  \n",
      "1879                   0.242709         106.0         14.0         51.0  \n",
      "1880                   0.005313           3.0          2.0          3.0  \n"
     ]
    }
   ],
   "source": [
    "import pandas as pd\n",
    "\n",
    "# 加载数据文件路径\n",
    "gdp_data_path = 'data1/GDP_Data_Normalized_1.csv'\n",
    "population_data_path = 'data1/Population_Data_Normalized_1.csv'\n",
    "per_capita_gdp_data_path = 'data1/人均GDP_Data_Normalized_1.csv'\n",
    "athletes_data_path = 'data/summerOly_athletes.csv'\n",
    "\n",
    "# 读取各个数据文件\n",
    "gdp_data = pd.read_csv(gdp_data_path)\n",
    "population_data = pd.read_csv(population_data_path)\n",
    "per_capita_gdp_data = pd.read_csv(per_capita_gdp_data_path)\n",
    "athletes_data = pd.read_csv(athletes_data_path)\n",
    "\n",
    "# 重命名列以便合并\n",
    "gdp_data.rename(columns={\"Country Name\": \"Country\", \"GDP\": \"GDP_Value\"}, inplace=True)\n",
    "population_data.rename(columns={\"Country Name\": \"Country\"}, inplace=True)\n",
    "per_capita_gdp_data.rename(columns={\"Normalized_GDP\": \"Normalized_Per_Capita_GDP\",\"Country or Area\": \"Country\"}, inplace=True)\n",
    "\n",
    "# 统计运动员数据\n",
    "athlete_stats = athletes_data.groupby([\"Team\", \"Year\"]).agg(\n",
    "    participants=(\"Name\", \"count\"),         # 参赛人数\n",
    "    sport_count=(\"Sport\", \"nunique\"),      # 不同运动项目的数量\n",
    "    event_count=(\"Event\", \"nunique\")       # 不同比赛项目的数量\n",
    ").reset_index()\n",
    "\n",
    "# 合并GDP和人口数据\n",
    "gdp_population_data = pd.merge(gdp_data, population_data, on=[\"Country\", \"Year\"], how=\"inner\")\n",
    "\n",
    "# 合并人均GDP数据\n",
    "merged_data = pd.merge(gdp_population_data, per_capita_gdp_data, on=[\"Country\", \"Year\"], how=\"left\")\n",
    "\n",
    "# 合并运动员统计数据\n",
    "final_data = pd.merge(merged_data, athlete_stats, left_on=[\"Country\", \"Year\"], right_on=[\"Team\", \"Year\"], how=\"left\")\n",
    "\n",
    "# 选择需要保留的列\n",
    "columns_to_keep = [\"Country\", \"Year\", \"Normalized_GDP\", \"Normalized_Population\", \"Normalized_Per_Capita_GDP\",\n",
    "                   \"participants\", \"sport_count\", \"event_count\"]\n",
    "final_data = final_data[columns_to_keep]\n",
    "\n",
    "# 删除包含缺失值的行\n",
    "final_data.dropna(inplace=True)\n",
    "\n",
    "# 保存最终数据到 CSV 文件\n",
    "output_path = 'data1/Aggregated_Olympic_Data.csv'\n",
    "final_data.to_csv(output_path, index=False)\n",
    "\n",
    "# 打印保存路径\n",
    "print(f\"最终清理后的数据已保存到: {output_path}\")\n",
    "\n",
    "# 可选：打印数据的前几行\n",
    "print(final_data.head())\n"
   ]
  },
  {
   "cell_type": "code",
   "execution_count": 78,
   "id": "0701a65f-94de-4169-8d30-7476c852ed78",
   "metadata": {},
   "outputs": [
    {
     "name": "stdout",
     "output_type": "stream",
     "text": [
      "最终清理后的数据已保存到: data1/Aggregated_Olympic_Data_with_Medals.csv\n",
      "        Country  Year  Normalized_GDP  Normalized_Population  \\\n",
      "1875  Argentina  1972        0.009055               0.006426   \n",
      "1876  Australia  1972        0.013571               0.003435   \n",
      "1877    Austria  1972        0.005727               0.001966   \n",
      "1879    Belgium  1972        0.009701               0.002531   \n",
      "1880      Benin  1972        0.000101               0.000835   \n",
      "\n",
      "      Normalized_Per_Capita_GDP  participants  sport_count  event_count  \\\n",
      "1875                   0.096561         123.0         12.0         62.0   \n",
      "1876                   0.283118         266.0         20.0        110.0   \n",
      "1877                   0.184300         143.0         15.0         68.0   \n",
      "1879                   0.242709         106.0         14.0         51.0   \n",
      "1880                   0.005313           3.0          2.0          3.0   \n",
      "\n",
      "      Gold_Medals  Silver_Medals  Bronze_Medals  Total_Medals  \n",
      "1875          0.0            1.0            0.0           1.0  \n",
      "1876         11.0            7.0            2.0          20.0  \n",
      "1877          0.0            1.0            2.0           3.0  \n",
      "1879          0.0            2.0            0.0           2.0  \n",
      "1880          0.0            0.0            0.0           0.0  \n"
     ]
    }
   ],
   "source": [
    "import pandas as pd\n",
    "\n",
    "# 加载数据文件路径\n",
    "gdp_data_path = 'data1/GDP_Data_Normalized_1.csv'\n",
    "population_data_path = 'data1/Population_Data_Normalized_1.csv'\n",
    "per_capita_gdp_data_path = 'data1/人均GDP_Data_Normalized_1.csv'\n",
    "athletes_data_path = 'data/summerOly_athletes.csv'\n",
    "\n",
    "# 读取各个数据文件\n",
    "gdp_data = pd.read_csv(gdp_data_path)\n",
    "population_data = pd.read_csv(population_data_path)\n",
    "per_capita_gdp_data = pd.read_csv(per_capita_gdp_data_path)\n",
    "athletes_data = pd.read_csv(athletes_data_path)\n",
    "\n",
    "# 重命名列以便合并\n",
    "gdp_data.rename(columns={\"Country Name\": \"Country\", \"GDP\": \"GDP_Value\"}, inplace=True)\n",
    "population_data.rename(columns={\"Country Name\": \"Country\"}, inplace=True)\n",
    "per_capita_gdp_data.rename(columns={\"Normalized_GDP\": \"Normalized_Per_Capita_GDP\", \"Country or Area\": \"Country\"}, inplace=True)\n",
    "\n",
    "# 统计运动员数据\n",
    "athlete_stats = athletes_data.groupby([\"Team\", \"Year\"]).agg(\n",
    "    participants=(\"Name\", \"count\"),         # 参赛人数\n",
    "    sport_count=(\"Sport\", \"nunique\"),      # 不同运动项目的数量\n",
    "    event_count=(\"Event\", \"nunique\")       # 不同比赛项目的数量\n",
    ").reset_index()\n",
    "\n",
    "# 合并GDP和人口数据\n",
    "gdp_population_data = pd.merge(gdp_data, population_data, on=[\"Country\", \"Year\"], how=\"inner\")\n",
    "\n",
    "# 合并人均GDP数据\n",
    "merged_data = pd.merge(gdp_population_data, per_capita_gdp_data, on=[\"Country\", \"Year\"], how=\"left\")\n",
    "\n",
    "# 合并运动员统计数据\n",
    "final_data = pd.merge(merged_data, athlete_stats, left_on=[\"Country\", \"Year\"], right_on=[\"Team\", \"Year\"], how=\"left\")\n",
    "\n",
    "# --------------------- 奖牌统计功能 ---------------------\n",
    "\n",
    "# 统计每届奥运会每个国家的奖牌数量\n",
    "medal_stats = athletes_data[~athletes_data['Medal'].isna()].groupby([\"Team\", \"Year\", \"Medal\"]).agg(\n",
    "    medal_count=(\"Medal\", \"count\")\n",
    ").reset_index()\n",
    "\n",
    "# 将数据转换为透视表形式，按国家和年份显示每种奖牌的数量\n",
    "medal_pivot = medal_stats.pivot(index=[\"Team\", \"Year\"], columns=\"Medal\", values=\"medal_count\").fillna(0).reset_index()\n",
    "\n",
    "# 重命名列名以便理解\n",
    "medal_pivot.rename(columns={\"Gold\": \"Gold_Medals\", \"Silver\": \"Silver_Medals\", \"Bronze\": \"Bronze_Medals\"}, inplace=True)\n",
    "\n",
    "# 计算每个国家每届奥运会的奖牌总数\n",
    "medal_pivot[\"Total_Medals\"] = medal_pivot[[\"Gold_Medals\", \"Silver_Medals\", \"Bronze_Medals\"]].sum(axis=1)\n",
    "\n",
    "# 将奖牌数据与 final_data 合并\n",
    "final_data = pd.merge(final_data, medal_pivot, left_on=[\"Country\", \"Year\"], right_on=[\"Team\", \"Year\"], how=\"left\")\n",
    "\n",
    "# 填充缺失值为 0（如果某些国家或年份没有奖牌信息）\n",
    "final_data[[\"Gold_Medals\", \"Silver_Medals\", \"Bronze_Medals\", \"Total_Medals\"]] = final_data[\n",
    "    [\"Gold_Medals\", \"Silver_Medals\", \"Bronze_Medals\", \"Total_Medals\"]\n",
    "].fillna(0)\n",
    "\n",
    "# 删除多余列（如 Team 和其他多余列）\n",
    "if \"Team\" in final_data.columns:\n",
    "    final_data.drop(columns=[\"Team\"], inplace=True)\n",
    "\n",
    "# 选择需要保留的列\n",
    "columns_to_keep = [\"Country\", \"Year\", \"Normalized_GDP\", \"Normalized_Population\", \"Normalized_Per_Capita_GDP\",\n",
    "                   \"participants\", \"sport_count\", \"event_count\", \"Gold_Medals\", \"Silver_Medals\", \n",
    "                   \"Bronze_Medals\", \"Total_Medals\"]\n",
    "final_data = final_data[columns_to_keep]\n",
    "\n",
    "# 删除包含其他缺失值的行\n",
    "final_data.dropna(inplace=True)\n",
    "\n",
    "# 保存最终数据到 CSV 文件\n",
    "output_path = 'data1/final_data_0.csv'\n",
    "final_data.to_csv(output_path, index=False)\n",
    "\n",
    "# 打印保存路径\n",
    "print(f\"最终清理后的数据已保存到: {output_path}\")\n",
    "\n",
    "# 可选：打印数据的前几行\n",
    "print(final_data.head())\n"
   ]
  }
 ],
 "metadata": {
  "kernelspec": {
   "display_name": "Python 3 (ipykernel)",
   "language": "python",
   "name": "python3"
  },
  "language_info": {
   "codemirror_mode": {
    "name": "ipython",
    "version": 3
   },
   "file_extension": ".py",
   "mimetype": "text/x-python",
   "name": "python",
   "nbconvert_exporter": "python",
   "pygments_lexer": "ipython3",
   "version": "3.12.7"
  }
 },
 "nbformat": 4,
 "nbformat_minor": 5
}
