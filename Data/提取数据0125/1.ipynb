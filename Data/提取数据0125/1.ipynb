{
 "cells": [
  {
   "cell_type": "markdown",
   "id": "4e45674b-bfa6-4a1c-8906-d16a1e0ad43c",
   "metadata": {},
   "source": [
    "## 统计从未获奖的国家"
   ]
  },
  {
   "cell_type": "code",
   "execution_count": 14,
   "id": "7147ec34-9af2-492c-be21-35b10dea05bc",
   "metadata": {},
   "outputs": [
    {
     "name": "stdout",
     "output_type": "stream",
     "text": [
      "从未获得奖牌的国家及名称已保存到文件：countries_no_medals_with_names.csv\n"
     ]
    }
   ],
   "source": [
    "import pandas as pd\n",
    "\n",
    "# 加载CSV文件\n",
    "file_path = r'2025_Problem_C_Data/summerOly_athletes.csv'\n",
    "data = pd.read_csv(file_path)  # 读取CSV文件到DataFrame中\n",
    "\n",
    "# 筛选出获得奖牌的国家（Medal列不为 \"No medal\"）\n",
    "countries_with_medals = data[data['Medal'] != \"No medal\"]['NOC'].unique()\n",
    "\n",
    "# 获取所有国家的唯一代码（NOC）\n",
    "all_countries = data[['NOC', 'Team']].drop_duplicates()  # 保留唯一的NOC和Team组合\n",
    "\n",
    "# 识别从未获得奖牌的国家（将所有国家减去获得过奖牌的国家）\n",
    "countries_no_medals = all_countries[~all_countries['NOC'].isin(countries_with_medals)]\n",
    "\n",
    "# 将结果转换为DataFrame以便更好地显示\n",
    "countries_no_medals_df = countries_no_medals.rename(columns={'Team': 'Country Name'})[['NOC', 'Country Name']]\n",
    "\n",
    "# 保存结果到CSV文件\n",
    "output_path = 'countries_no_medals_with_names.csv'  # 输出文件路径\n",
    "countries_no_medals_df.to_csv(output_path, index=False, encoding='utf-8')  # 保存为CSV文件\n",
    "\n",
    "# 输出结果\n",
    "print(f\"从未获得奖牌的国家及名称已保存到文件：{output_path}\")\n"
   ]
  },
  {
   "cell_type": "markdown",
   "id": "79153653-d05e-4dd3-97a5-0a483074636a",
   "metadata": {},
   "source": [
    "## 插值"
   ]
  },
  {
   "cell_type": "markdown",
   "id": "5a40664c-c59b-4a25-a687-8536bd1f238e",
   "metadata": {},
   "source": [
    "### 1.线性差值"
   ]
  },
  {
   "cell_type": "markdown",
   "id": "d4c37a8b-0a71-480d-a051-eb133f0a2841",
   "metadata": {},
   "source": [
    "### （1）人口"
   ]
  },
  {
   "cell_type": "code",
   "execution_count": 15,
   "id": "a7c9c98e-c8c9-4730-9103-2d871ab33aa4",
   "metadata": {},
   "outputs": [
    {
     "name": "stdout",
     "output_type": "stream",
     "text": [
      "插值后的数据已保存至：data0/Interpolated_Population_Data.csv\n"
     ]
    }
   ],
   "source": [
    "import pandas as pd\n",
    "\n",
    "# 加载数据文件\n",
    "file_path = 'data0/API_SP.POP.TOTL_DS2_en_csv_v2_900.csv'\n",
    "data = pd.read_csv(file_path)\n",
    "\n",
    "# 将数据从宽格式转换为长格式\n",
    "data_long = data.melt(\n",
    "    id_vars=data.columns[:4],  # 保留前四列作为标识\n",
    "    var_name='Year',\n",
    "    value_name='Population'\n",
    ")\n",
    "\n",
    "# 将'Year'列转换为整数并排序\n",
    "data_long['Year'] = data_long['Year'].astype(int)\n",
    "data_long = data_long.sort_values([data.columns[0], 'Year']).reset_index(drop=True)\n",
    "\n",
    "# 按国家名称分组并进行线性插值\n",
    "data_long['Population'] = data_long.groupby(data.columns[0])['Population'].transform(\n",
    "    lambda group: group.interpolate(method='linear')\n",
    ")\n",
    "\n",
    "# 将数据重新转换为宽格式\n",
    "data_interpolated = data_long.pivot(\n",
    "    index=data.columns[:4].tolist(),\n",
    "    columns='Year',\n",
    "    values='Population'\n",
    ").reset_index()\n",
    "\n",
    "# 如果需要，将插值后的数据保存为新的CSV文件\n",
    "output_path = r'data0/Interpolated_Population_Data.csv'\n",
    "data_interpolated.to_csv(output_path, index=False)\n",
    "\n",
    "print(f\"插值后的数据已保存至：{output_path}\")\n"
   ]
  },
  {
   "cell_type": "markdown",
   "id": "18f09b93-6bbd-461e-872b-7c5ab8622e75",
   "metadata": {},
   "source": [
    "### （2）gdp"
   ]
  },
  {
   "cell_type": "code",
   "execution_count": 7,
   "id": "47cf5a5c-e3f3-41ff-8fd7-61bea5494a41",
   "metadata": {},
   "outputs": [
    {
     "name": "stdout",
     "output_type": "stream",
     "text": [
      "插值后的完整数据已保存至：data0/Interpolated_gdp_Data.csv\n"
     ]
    }
   ],
   "source": [
    "import pandas as pd\n",
    "\n",
    "# 加载数据文件\n",
    "file_path = 'data0/UNdata_Export_20250124_074035299.csv'\n",
    "data = pd.read_csv(file_path)\n",
    "\n",
    "# 将 'Year' 列转换为整数类型\n",
    "data['Year'] = data['Year'].astype(int)\n",
    "\n",
    "# 为每个国家生成完整的年份范围\n",
    "complete_years = (\n",
    "    data.groupby('Country or Area')['Year']\n",
    "    .apply(lambda x: pd.Series(range(x.min(), x.max() + 1)))\n",
    "    .reset_index(level=0)\n",
    "    .rename(columns={0: 'Year'})\n",
    ")\n",
    "\n",
    "# 合并完整年份范围和原始数据\n",
    "data_complete = pd.merge(complete_years, data, on=['Country or Area', 'Year'], how='left')\n",
    "\n",
    "# 按国家对数据进行分组，并对缺失的 'Value' 列进行线性插值\n",
    "data_complete['Value'] = data_complete.groupby('Country or Area')['Value'].transform(\n",
    "    lambda group: group.interpolate(method='linear')\n",
    ")\n",
    "\n",
    "# 如果需要，可以将结果保存为 CSV 文件\n",
    "output_path = 'data0/Interpolated_gdp_Data.csv'\n",
    "data_complete.to_csv(output_path, index=False)\n",
    "\n",
    "print(f\"插值后的完整数据已保存至：{output_path}\")\n"
   ]
  },
  {
   "cell_type": "markdown",
   "id": "4017e953-9a8d-4823-b348-297d9e5f973c",
   "metadata": {},
   "source": [
    "## GDP、人口归一化"
   ]
  },
  {
   "cell_type": "code",
   "execution_count": 8,
   "id": "0610a810-f75b-4943-8ed1-1f884f58b47c",
   "metadata": {},
   "outputs": [
    {
     "name": "stdout",
     "output_type": "stream",
     "text": [
      "                       Country      1960      1961      1962      1963  \\\n",
      "0                  Afghanistan  0.029644  0.029817  0.029881  0.029848   \n",
      "1  Africa Eastern and Southern  0.426769  0.432120  0.435838  0.438012   \n",
      "2   Africa Western and Central  0.320329  0.322652  0.323625  0.323475   \n",
      "3                      Albania  0.005279  0.005371  0.005437  0.005478   \n",
      "4                      Algeria  0.037485  0.037631  0.037495  0.037236   \n",
      "\n",
      "       1964      1965      1966      1967      1968  ...      2014      2015  \\\n",
      "0  0.029840  0.029860  0.029877  0.029918  0.029973  ...  0.041715  0.042486   \n",
      "1  0.440570  0.443417  0.446080  0.449103  0.452311  ...  0.751765  0.762430   \n",
      "2  0.323466  0.323630  0.323752  0.324060  0.324459  ...  0.517730  0.525088   \n",
      "3  0.005516  0.005548  0.005572  0.005598  0.005635  ...  0.003675  0.003618   \n",
      "4  0.037032  0.036792  0.036640  0.036668  0.036704  ...  0.049872  0.050257   \n",
      "\n",
      "       2016      2017      2018      2019      2020      2021      2022  \\\n",
      "0  0.043027  0.043701  0.044450  0.045263  0.046187  0.046826  0.047040   \n",
      "1  0.772947  0.783752  0.795782  0.808202  0.820963  0.834765  0.848351   \n",
      "2  0.532502  0.539861  0.547049  0.554024  0.561029  0.568833  0.576587   \n",
      "3  0.003566  0.003519  0.003468  0.003413  0.003355  0.003291  0.003220   \n",
      "4  0.050653  0.051049  0.051421  0.051765  0.052066  0.052399  0.052719   \n",
      "\n",
      "       2023  \n",
      "0  0.047578  \n",
      "1  0.861369  \n",
      "2  0.584647  \n",
      "3  0.003152  \n",
      "4  0.052984  \n",
      "\n",
      "[5 rows x 65 columns]\n",
      "结果已保存为 data0/population_percentage.csv\n"
     ]
    }
   ],
   "source": [
    "# 导入必要的库\n",
    "import pandas as pd\n",
    "\n",
    "# 加载数据集\n",
    "file_path = 'data0/interpolated_population_data.csv'\n",
    "# 读取CSV文件并跳过前4行元数据\n",
    "data = pd.read_csv(file_path)\n",
    "\n",
    "# 清理数据：提取国家名称和每年人口数据\n",
    "# 选择需要的列：国家列和各年份的人口数据\n",
    "data_cleaned = data.iloc[:, [0] + list(range(4, data.shape[1]))].reset_index(drop=True)\n",
    "\n",
    "# 给列命名：'Country' 和年份列（1960年到2023年）\n",
    "data_cleaned.columns = ['Country'] + list(map(str, range(1960, 1960 + (data.shape[1] - 4))))\n",
    "\n",
    "# 将人口数据转换为数值型\n",
    "data_cleaned.iloc[:, 1:] = data_cleaned.iloc[:, 1:].apply(pd.to_numeric, errors='coerce')\n",
    "\n",
    "# 计算每年全球总人口\n",
    "global_population = data_cleaned.iloc[:, 1:].sum()\n",
    "\n",
    "# 计算每个国家的人口占全球总人口的百分比\n",
    "percentage_population = data_cleaned.iloc[:, 1:].div(global_population, axis=1) * 100\n",
    "\n",
    "# 将国家名称与百分比数据合并\n",
    "percentage_population = pd.concat([data_cleaned['Country'], percentage_population], axis=1)\n",
    "\n",
    "# 输出结果：显示数据的前几行\n",
    "print(percentage_population.head())\n",
    "\n",
    "# 或者将结果保存为CSV文件\n",
    "output_file_path = 'data0/population_percentage.csv'\n",
    "percentage_population.to_csv(output_file_path, index=False)\n",
    "print(f\"结果已保存为 {output_file_path}\")\n"
   ]
  },
  {
   "cell_type": "code",
   "execution_count": 11,
   "id": "d864ba48-95e6-417e-9489-8b5b83be99c6",
   "metadata": {},
   "outputs": [
    {
     "name": "stdout",
     "output_type": "stream",
     "text": [
      "  Country or Area  Year                          Item       Value  \\\n",
      "0     Afghanistan  1970  Gross Domestic Product (GDP)  162.642176   \n",
      "1     Afghanistan  1971  Gross Domestic Product (GDP)  166.224832   \n",
      "2     Afghanistan  1972  Gross Domestic Product (GDP)  141.365323   \n",
      "3     Afghanistan  1973  Gross Domestic Product (GDP)  149.744069   \n",
      "4     Afghanistan  1974  Gross Domestic Product (GDP)  181.598776   \n",
      "\n",
      "      Global_GDP  GDP_Percentage  \n",
      "0  201579.571187        0.080684  \n",
      "1  223209.863804        0.074470  \n",
      "2  259442.366248        0.054488  \n",
      "3  324985.322708        0.046077  \n",
      "4  410113.106734        0.044280  \n"
     ]
    }
   ],
   "source": [
    "import pandas as pd\n",
    "\n",
    "# Load the dataset\n",
    "file_path = 'data0/interpolated_gdp_data.csv'\n",
    "data = pd.read_csv(file_path)\n",
    "\n",
    "# Filter data for GDP values only\n",
    "gdp_data = data[data['Item'] == 'Gross Domestic Product (GDP)']\n",
    "\n",
    "# Calculate the total global GDP for each year\n",
    "global_gdp = gdp_data.groupby('Year')['Value'].sum().reset_index()\n",
    "global_gdp = global_gdp.rename(columns={'Value': 'Global_GDP'})\n",
    "\n",
    "# Merge the global GDP data back with the original dataset\n",
    "gdp_data_with_global = pd.merge(gdp_data, global_gdp, on='Year')\n",
    "\n",
    "# Calculate the percentage of each country's GDP relative to the global GDP\n",
    "gdp_data_with_global['GDP_Percentage'] = (gdp_data_with_global['Value'] / gdp_data_with_global['Global_GDP']) * 100\n",
    "\n",
    "# Save the resulting dataframe to a new CSV file\n",
    "output_file_path = 'data0/gdp_percentage.csv'\n",
    "gdp_data_with_global.to_csv(output_file_path, index=False)\n",
    "\n",
    "# Display the first few rows to verify the calculation\n",
    "print(gdp_data_with_global.head())\n"
   ]
  }
 ],
 "metadata": {
  "kernelspec": {
   "display_name": "Python 3 (ipykernel)",
   "language": "python",
   "name": "python3"
  },
  "language_info": {
   "codemirror_mode": {
    "name": "ipython",
    "version": 3
   },
   "file_extension": ".py",
   "mimetype": "text/x-python",
   "name": "python",
   "nbconvert_exporter": "python",
   "pygments_lexer": "ipython3",
   "version": "3.12.7"
  }
 },
 "nbformat": 4,
 "nbformat_minor": 5
}
